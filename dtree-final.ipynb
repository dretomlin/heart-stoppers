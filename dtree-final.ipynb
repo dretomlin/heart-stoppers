{
 "cells": [
  {
   "cell_type": "markdown",
   "metadata": {},
   "source": [
    "Script for decision tree classification of heart disease data"
   ]
  },
  {
   "cell_type": "code",
   "execution_count": 1,
   "metadata": {},
   "outputs": [],
   "source": [
    "import pandas as pd \n",
    "import numpy as np\n",
    "import seaborn as sns\n",
    "import matplotlib.pyplot as plt\n",
    "from sklearn.tree import DecisionTreeClassifier\n",
    "from sklearn.model_selection import train_test_split, StratifiedKFold, GridSearchCV, cross_val_score, validation_curve\n",
    "from sklearn import metrics\n",
    "import os"
   ]
  },
  {
   "cell_type": "code",
   "execution_count": 2,
   "metadata": {},
   "outputs": [],
   "source": [
    "col_names = ['age', 'sex', 'chest-pain', 'restbps', 'cholesterol', 'fasting-bs', 'rest-ecg', 'thalach', 'exang', 'oldpeak', 'slope', 'colored-v', 'thal', 'num']\n",
    "feature_cols = ['age', 'sex', 'chest-pain', 'restbps', 'cholesterol', 'fasting-bs', 'rest-ecg', 'thalach', 'exang', 'oldpeak', 'slope', 'colored-v', 'thal']"
   ]
  },
  {
   "cell_type": "markdown",
   "metadata": {},
   "source": [
    "load dataset"
   ]
  },
  {
   "cell_type": "code",
   "execution_count": 3,
   "metadata": {},
   "outputs": [],
   "source": [
    "heart = pd.read_csv(\"processed.cleveland.data\", header=None, names=col_names)"
   ]
  },
  {
   "cell_type": "code",
   "execution_count": 4,
   "metadata": {},
   "outputs": [],
   "source": [
    "X = heart[feature_cols] # Features\n",
    "y = heart['num'] # Target variable"
   ]
  },
  {
   "cell_type": "code",
   "execution_count": 5,
   "metadata": {},
   "outputs": [
    {
     "name": "stderr",
     "output_type": "stream",
     "text": [
      "/home/deandret/anaconda3/lib/python3.7/site-packages/pandas/core/ops.py:1649: FutureWarning: elementwise comparison failed; returning scalar instead, but in the future will perform elementwise comparison\n",
      "  result = method(y)\n",
      "/home/deandret/anaconda3/lib/python3.7/site-packages/pandas/core/frame.py:3940: SettingWithCopyWarning: \n",
      "A value is trying to be set on a copy of a slice from a DataFrame\n",
      "\n",
      "See the caveats in the documentation: http://pandas.pydata.org/pandas-docs/stable/indexing.html#indexing-view-versus-copy\n",
      "  errors=errors)\n"
     ]
    },
    {
     "data": {
      "text/plain": [
       "array([[63.0, 1.0, 1.0, ..., 3.0, '0.0', '6.0'],\n",
       "       [67.0, 1.0, 4.0, ..., 2.0, '3.0', '3.0'],\n",
       "       [67.0, 1.0, 4.0, ..., 2.0, '2.0', '7.0'],\n",
       "       ...,\n",
       "       [68.0, 1.0, 4.0, ..., 2.0, '2.0', '7.0'],\n",
       "       [57.0, 1.0, 4.0, ..., 2.0, '1.0', '7.0'],\n",
       "       [57.0, 0.0, 2.0, ..., 2.0, '1.0', '3.0']], dtype=object)"
      ]
     },
     "execution_count": 5,
     "metadata": {},
     "output_type": "execute_result"
    }
   ],
   "source": [
    "def data_clean(x_feat, y_label):\n",
    "# Get names of indexes for which column Age has value 30\n",
    "    for feat in feature_cols:\n",
    "        indexNames = x_feat[x_feat[feat] == '?' ].index\n",
    "        # Delete these row indexes from dataFrame\n",
    "        x_feat.drop(indexNames , inplace=True)\n",
    "        y_label.drop(indexNames , inplace=True)  \n",
    "        \n",
    "    X = x_feat.to_numpy()\n",
    "    y = y_label.to_numpy()\n",
    "    return(X, y)\n",
    "\n",
    "X, y = data_clean(X, y)\n",
    "X"
   ]
  },
  {
   "cell_type": "code",
   "execution_count": 6,
   "metadata": {},
   "outputs": [],
   "source": [
    "def initial_cv_score(clf_type, X_feat, y_label, num):\n",
    "    cv_scores = cross_val_score(clf_type, X_feat, y_label, cv = num)\n",
    "    sns.distplot(cv_scores)\n",
    "    plt.title('Average score: {}'.format(np.mean(cv_scores)))\n",
    "    \n",
    "    directory = 'graph_pictures'\n",
    "    \n",
    "    if not os.path.exists('graph_pictures'):\n",
    "        os.makedirs('graph_pictures')\n",
    "    \n",
    "    directory += '/dtree_init_cv_score.png'\n",
    "    plt.savefig(directory)"
   ]
  },
  {
   "cell_type": "code",
   "execution_count": 7,
   "metadata": {},
   "outputs": [],
   "source": [
    "clf = DecisionTreeClassifier()"
   ]
  },
  {
   "cell_type": "code",
   "execution_count": 8,
   "metadata": {},
   "outputs": [
    {
     "data": {
      "image/png": "[encoded data removed]",
      "text/plain": [
       "<Figure size 432x288 with 1 Axes>"
      ]
     },
     "metadata": {
      "needs_background": "light"
     },
     "output_type": "display_data"
    }
   ],
   "source": [
    "initial_cv_score(clf, X, y, num=5)"
   ]
  },
  {
   "cell_type": "code",
   "execution_count": 9,
   "metadata": {},
   "outputs": [],
   "source": [
    "#Prints graph of validation curve for minimum number of leaves\n",
    "def leaf_validation_plot(clf_type, X_feat, y_label, num):\n",
    "    #Plot validation curve with leafs in nodes, DO with max depth\n",
    "    # Create range of values for parameter\n",
    "    param_range = np.arange(1, 50)\n",
    "\n",
    "    # Calculate accuracy on training and test set using range of parameter values\n",
    "    train_scores, test_scores = validation_curve(clf_type, \n",
    "                                                 X_feat, \n",
    "                                                 y_label, \n",
    "                                                 param_name=\"min_samples_leaf\", \n",
    "                                                 param_range=param_range,\n",
    "                                                 cv=num, \n",
    "                                                 scoring=\"accuracy\", \n",
    "                                                 n_jobs=-1)\n",
    "\n",
    "\n",
    "    # Calculate mean and standard deviation for training set scores\n",
    "    train_mean = np.mean(train_scores, axis=1)\n",
    "    train_std = np.std(train_scores, axis=1)\n",
    "\n",
    "    # Calculate mean and standard deviation for test set scores\n",
    "    test_mean = np.mean(test_scores, axis=1)\n",
    "    test_std = np.std(test_scores, axis=1)\n",
    "    \n",
    "    fig, ax = plt.subplots()\n",
    "    \n",
    "    # Plot mean accuracy scores for training and test sets\n",
    "    ax.plot(param_range, train_mean, label=\"Training score\", color=\"black\")\n",
    "    ax.plot(param_range, test_mean, label=\"Cross-validation score\", color=\"dimgrey\")\n",
    "\n",
    "    # Plot accurancy bands for training and test sets\n",
    "    ax.fill_between(param_range, train_mean - train_std, train_mean + train_std, color=\"gray\")\n",
    "    ax.fill_between(param_range, test_mean - test_std, test_mean + test_std, color=\"gainsboro\")\n",
    "\n",
    "    # Create plot\n",
    "    ax.set_title(\"Validation Curve With Decision\")\n",
    "    ax.set_xlabel(\"Number Of Trees\")\n",
    "    ax.set_ylabel(\"Accuracy Score\")\n",
    "    #ax.tight_layout()\n",
    "    ax.legend(loc=\"best\")\n",
    "    \n",
    "    directory = 'graph_pictures'\n",
    "    \n",
    "    if not os.path.exists('graph_pictures'):\n",
    "        os.makedirs('graph_pictures')\n",
    "    \n",
    "    directory += '/dtree_leaf_validate_scores.png'\n",
    "    fig.savefig(directory)\n",
    "    \n",
    "    plt.show()"
   ]
  },
  {
   "cell_type": "code",
   "execution_count": 10,
   "metadata": {},
   "outputs": [
    {
     "data": {
      "image/png": "[encoded data removed]",
      "text/plain": [
       "<Figure size 432x288 with 1 Axes>"
      ]
     },
     "metadata": {
      "needs_background": "light"
     },
     "output_type": "display_data"
    }
   ],
   "source": [
    "leaf_validation_plot(clf, X, y, num=5)"
   ]
  },
  {
   "cell_type": "code",
   "execution_count": 11,
   "metadata": {},
   "outputs": [],
   "source": [
    "#Creating simple testing split to be used in model_fitter function\n",
    "X_train, X_test, y_train, y_test = train_test_split(\n",
    "    X, y, test_size = 0.20, random_state = 1)"
   ]
  },
  {
   "cell_type": "code",
   "execution_count": 12,
   "metadata": {},
   "outputs": [],
   "source": [
    "#GridSearchCV algorithmn to help combine an estimator with a grid search preamble to tune hyper-parameters\n",
    "def gridSearch(clf, X_feat, y_label):\n",
    "        \n",
    "    # make an array of depths to choose from, say 1 to 20\n",
    "    depths = np.arange(1, 21)\n",
    "    num_leafs = np.arange(1,50)\n",
    "    \n",
    "    #GridSearch\n",
    "    param_grid = [{'max_depth':depths, 'min_samples_leaf':num_leafs}]\n",
    "    gs = GridSearchCV(estimator=clf, param_grid=param_grid, cv=5)\n",
    "    gs = gs.fit(X, y)\n",
    "    print(gs.best_score_)\n",
    "    print(gs.best_params_)\n",
    "    #print(gs.best_estimator_)\n",
    "    \n",
    "    my_model = gs.best_estimator_    \n",
    "    return(my_model)"
   ]
  },
  {
   "cell_type": "code",
   "execution_count": 13,
   "metadata": {},
   "outputs": [],
   "source": [
    "#Returns predictions and probabilities from model\n",
    "def model_fitter(model):\n",
    "    model.fit(X_train, y_train)\n",
    "    y_predictor = model.predict(X_test)\n",
    "    \n",
    "    # predict probabilities\n",
    "    dtree_probs = model.predict_proba(X_test)\n",
    "    # keep probabilities for the positive outcome only\n",
    "    dtree_probs = dtree_probs[:, 1]\n",
    "    return(y_predictor, dtree_probs)"
   ]
  },
  {
   "cell_type": "code",
   "execution_count": 14,
   "metadata": {},
   "outputs": [
    {
     "name": "stdout",
     "output_type": "stream",
     "text": [
      "0.5824915824915825\n",
      "{'max_depth': 3, 'min_samples_leaf': 30}\n"
     ]
    },
    {
     "name": "stderr",
     "output_type": "stream",
     "text": [
      "/home/deandret/anaconda3/lib/python3.7/site-packages/sklearn/model_selection/_search.py:813: DeprecationWarning: The default of the `iid` parameter will change from True to False in version 0.22 and will be removed in 0.24. This will change numeric results when test-set sizes are unequal.\n",
      "  DeprecationWarning)\n"
     ]
    }
   ],
   "source": [
    "model = gridSearch(clf, X, y)"
   ]
  },
  {
   "cell_type": "code",
   "execution_count": 15,
   "metadata": {},
   "outputs": [],
   "source": [
    "#Get different types of probabilities from model\n",
    "y_predictor, y_probs = model_fitter(model)"
   ]
  },
  {
   "cell_type": "code",
   "execution_count": 16,
   "metadata": {},
   "outputs": [],
   "source": [
    "#Working on function for evalution methods\n",
    "def evals(y_test_truth, y_predictions):\n",
    "    acc=metrics.accuracy_score(y_test_truth, y_predictions)\n",
    "    mse=metrics.mean_squared_error(y_test_truth, y_predictions)\n",
    "    c_report=metrics.classification_report(y_test_truth, y_predictions)\n",
    "    \n",
    "    print(\"Accuracy: \", acc)\n",
    "    print(\"Mean-Squared Erro: \", mse)\n",
    "    print(\"Classification report: \", c_report)\n",
    "    "
   ]
  },
  {
   "cell_type": "code",
   "execution_count": 17,
   "metadata": {},
   "outputs": [
    {
     "name": "stdout",
     "output_type": "stream",
     "text": [
      "Accuracy:  0.5833333333333334\n",
      "Mean-Squared Erro:  1.0\n",
      "Classification report:                precision    recall  f1-score   support\n",
      "\n",
      "           0       0.66      0.97      0.78        30\n",
      "           1       0.00      0.00      0.00        10\n",
      "           2       0.30      0.27      0.29        11\n",
      "           3       0.50      0.38      0.43         8\n",
      "           4       0.00      0.00      0.00         1\n",
      "\n",
      "    accuracy                           0.58        60\n",
      "   macro avg       0.29      0.32      0.30        60\n",
      "weighted avg       0.45      0.58      0.50        60\n",
      "\n"
     ]
    },
    {
     "name": "stderr",
     "output_type": "stream",
     "text": [
      "/home/deandret/anaconda3/lib/python3.7/site-packages/sklearn/metrics/classification.py:1437: UndefinedMetricWarning: Precision and F-score are ill-defined and being set to 0.0 in labels with no predicted samples.\n",
      "  'precision', 'predicted', average, warn_for)\n"
     ]
    }
   ],
   "source": [
    "evals(y_test,y_predictor)"
   ]
  },
  {
   "cell_type": "code",
   "execution_count": 18,
   "metadata": {},
   "outputs": [],
   "source": [
    "def make_confusion_matrix(y_test, y_predictor):\n",
    "    cm=metrics.confusion_matrix(y_test, y_predictor)\n",
    "    index = ['0-NP','1-P','2-P','3-P','4-P']  \n",
    "    columns = ['0-NP','1-P','2-P','3-P','4-P']\n",
    "    cm_df = pd.DataFrame(cm, columns, index)\n",
    "    plt.figure(figsize=(10,6))  \n",
    "    sns.heatmap(cm_df, annot=True)\n",
    "    \n",
    "    directory = 'graph_pictures'\n",
    "    \n",
    "    if not os.path.exists('graph_pictures'):\n",
    "        os.makedirs('graph_pictures')\n",
    "    \n",
    "    directory += '/dtree_confusion_matrix.png'\n",
    "    plt.savefig(directory)"
   ]
  },
  {
   "cell_type": "code",
   "execution_count": 19,
   "metadata": {},
   "outputs": [
    {
     "data": {
      "image/png": "[encoded data removed]",
      "text/plain": [
       "<Figure size 720x432 with 2 Axes>"
      ]
     },
     "metadata": {
      "needs_background": "light"
     },
     "output_type": "display_data"
    }
   ],
   "source": [
    "make_confusion_matrix(y_test, y_predictor)"
   ]
  },
  {
   "cell_type": "code",
   "execution_count": 20,
   "metadata": {
    "lines_to_next_cell": 2
   },
   "outputs": [
    {
     "data": {
      "text/plain": [
       "'\\nskf = StratifiedKFold(n_splits=5, random_state=None, shuffle=False)\\n\\n# Split dataset into training set and test set\\nfor train_index, test_index in skf.split(X, y):\\n    print(\"TRAIN:\", train_index, \"TEST:\", test_index)\\n    X_train, X_test = X[train_index], X[test_index]\\n    y_train, y_test = y[train_index], y[test_index]\\n\\n# Train Decision Tree Classifer\\nclf = clf.fit(X_train,y_train)\\n\\n#Predict the response for test dataset\\ny_pred = clf.predict(X_test)\\n\\n# Model Accuracy, how often is the classifier correct?\\nprint(\"Accuracy:\",metrics.accuracy_score(y_test, y_pred))\\nprint(\"MSE:\",metrics.mean_squared_error(y_test, y_pred))\\n'"
      ]
     },
     "execution_count": 20,
     "metadata": {},
     "output_type": "execute_result"
    }
   ],
   "source": [
    "#Old Kfold method\n",
    "'''\n",
    "skf = StratifiedKFold(n_splits=5, random_state=None, shuffle=False)\n",
    "\n",
    "# Split dataset into training set and test set\n",
    "for train_index, test_index in skf.split(X, y):\n",
    "    print(\"TRAIN:\", train_index, \"TEST:\", test_index)\n",
    "    X_train, X_test = X[train_index], X[test_index]\n",
    "    y_train, y_test = y[train_index], y[test_index]\n",
    "\n",
    "# Train Decision Tree Classifer\n",
    "clf = clf.fit(X_train,y_train)\n",
    "\n",
    "#Predict the response for test dataset\n",
    "y_pred = clf.predict(X_test)\n",
    "\n",
    "# Model Accuracy, how often is the classifier correct?\n",
    "print(\"Accuracy:\",metrics.accuracy_score(y_test, y_pred))\n",
    "print(\"MSE:\",metrics.mean_squared_error(y_test, y_pred))\n",
    "'''"
   ]
  }
 ],
 "metadata": {
  "jupytext": {
   "cell_metadata_filter": "-all",
   "main_language": "python",
   "notebook_metadata_filter": "-all"
  },
  "kernelspec": {
   "display_name": "Python 3",
   "language": "python",
   "name": "python3"
  },
  "language_info": {
   "codemirror_mode": {
    "name": "ipython",
    "version": 3
   },
   "file_extension": ".py",
   "mimetype": "text/x-python",
   "name": "python",
   "nbconvert_exporter": "python",
   "pygments_lexer": "ipython3",
   "version": "3.7.3"
  }
 },
 "nbformat": 4,
 "nbformat_minor": 2
}
